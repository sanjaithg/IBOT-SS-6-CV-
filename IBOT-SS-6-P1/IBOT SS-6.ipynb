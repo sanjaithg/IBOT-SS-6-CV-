{
 "cells": [
  {
   "cell_type": "code",
   "execution_count": 6,
   "id": "3243c35f-adf5-4a70-817b-c28edf55b37a",
   "metadata": {},
   "outputs": [],
   "source": [
    "import cv2 "
   ]
  },
  {
   "cell_type": "code",
   "execution_count": 4,
   "id": "d9c958dc-7520-47c2-8e8e-b16f7f386ff8",
   "metadata": {},
   "outputs": [
    {
     "name": "stdout",
     "output_type": "stream",
     "text": [
      "Requirement already satisfied: opencv-python in c:\\users\\gsanj\\appdata\\local\\programs\\python\\python312\\lib\\site-packages (4.10.0.84)\n",
      "Requirement already satisfied: numpy>=1.21.2 in c:\\users\\gsanj\\appdata\\local\\programs\\python\\python312\\lib\\site-packages (from opencv-python) (1.26.4)\n"
     ]
    }
   ],
   "source": [
    "!pip install opencv-python"
   ]
  },
  {
   "cell_type": "code",
   "execution_count": 2,
   "id": "58b518a6-9c91-414a-8926-50972c4ccb49",
   "metadata": {},
   "outputs": [
    {
     "name": "stdout",
     "output_type": "stream",
     "text": [
      "Requirement already satisfied: numpy in c:\\users\\gsanj\\appdata\\local\\programs\\python\\python312\\lib\\site-packages (1.26.4)\n"
     ]
    }
   ],
   "source": [
    "!pip install numpy"
   ]
  },
  {
   "cell_type": "markdown",
   "id": "3cd425c1-554a-454b-b9fe-f36eb332db50",
   "metadata": {},
   "source": [
    "\n",
    "Reading Images and Learning few Basic Image Processing\n"
   ]
  },
  {
   "cell_type": "code",
   "execution_count": 7,
   "id": "626fda19-c37c-4b1c-af5a-1a565752b497",
   "metadata": {},
   "outputs": [
    {
     "name": "stdout",
     "output_type": "stream",
     "text": [
      "[[[ 50  63 101]\n",
      "  [ 50  63 101]\n",
      "  [ 50  63 101]\n",
      "  ...\n",
      "  [ 47  30  43]\n",
      "  [ 47  30  43]\n",
      "  [ 47  30  43]]\n",
      "\n",
      " [[ 52  65 103]\n",
      "  [ 50  66 103]\n",
      "  [ 52  65 103]\n",
      "  ...\n",
      "  [ 47  30  43]\n",
      "  [ 47  30  43]\n",
      "  [ 47  30  43]]\n",
      "\n",
      " [[ 53  69 106]\n",
      "  [ 51  69 106]\n",
      "  [ 53  69 106]\n",
      "  ...\n",
      "  [ 45  31  43]\n",
      "  [ 45  31  43]\n",
      "  [ 45  31  43]]\n",
      "\n",
      " ...\n",
      "\n",
      " [[ 48  36  58]\n",
      "  [ 47  35  57]\n",
      "  [ 46  34  56]\n",
      "  ...\n",
      "  [ 43  25  32]\n",
      "  [ 45  27  34]\n",
      "  [ 47  29  36]]\n",
      "\n",
      " [[ 49  37  59]\n",
      "  [ 48  36  58]\n",
      "  [ 46  34  56]\n",
      "  ...\n",
      "  [ 44  28  35]\n",
      "  [ 46  30  37]\n",
      "  [ 47  33  39]]\n",
      "\n",
      " [[ 47  37  60]\n",
      "  [ 46  36  59]\n",
      "  [ 45  35  58]\n",
      "  ...\n",
      "  [ 44  29  37]\n",
      "  [ 45  30  38]\n",
      "  [ 44  31  39]]]\n"
     ]
    }
   ],
   "source": [
    "# Importing Opencv Lib & Numpy Lib\n",
    "import cv2\n",
    "import numpy as np\n",
    " \n",
    "# Read the Image\n",
    "img = cv2.imread('Mobile.jpg')\n",
    " \n",
    "# Print the image \n",
    "print(img)"
   ]
  },
  {
   "cell_type": "code",
   "execution_count": 8,
   "id": "6724a50d-14fa-4b8a-9e2a-e7c8e125b6a7",
   "metadata": {},
   "outputs": [
    {
     "data": {
      "text/plain": [
       "(605, 910, 3)"
      ]
     },
     "execution_count": 8,
     "metadata": {},
     "output_type": "execute_result"
    }
   ],
   "source": [
    "img.shape"
   ]
  },
  {
   "cell_type": "code",
   "execution_count": 9,
   "id": "0611cdb0-d222-410f-a1a9-eb6227a92ebc",
   "metadata": {},
   "outputs": [],
   "source": [
    "cv2.imshow(\"Mobile phone\",img)\n",
    "# Wait for the user to press any key\n",
    "cv2.waitKey(0)\n",
    " \n",
    "# Destroy all windows\n",
    "cv2.destroyAllWindows()"
   ]
  },
  {
   "cell_type": "markdown",
   "id": "5166189e-fa22-4564-85a8-db67e774046a",
   "metadata": {},
   "source": [
    "NOTE: Colour in BGR format\n",
    "1. cv2.line(image, start_point, end_point, color, thickness)\n",
    "2. cv2.circle(image, center, radius, color, thickness)\n",
    "3. cv2.rectangle(image, start_point, end_point, color, thickness)\n",
    "4. cv2.putText(image, text, bottom-left corner coordinates , fontFace, fontScale, color, thickness)  #cv2.FONT_HERSHEY_SIMPLEX is used for a basic font\n"
   ]
  },
  {
   "cell_type": "code",
   "execution_count": 10,
   "id": "66b29417-319b-4da2-b535-c3d6f1d901a4",
   "metadata": {},
   "outputs": [],
   "source": [
    "copy = img.copy()\n",
    " \n",
    "# Draw a line on the image with these parameters.\n",
    "cv2.line(copy, (400,250),(300,30), (255,255,0), 5) \n",
    "cv2.circle(copy, (360,200), 100, (255,100,0), 5)\n",
    "cv2.rectangle(copy, (250,100), (450,300), (0,255,0),3)\n",
    "cv2.putText(img,'Hi!',(100,100),cv2.FONT_HERSHEY_SIMPLEX, 1.7, (255,255,0), 4)\n",
    "\n",
    "# Display image\n",
    "cv2.imshow(\"Draw Line\", copy);\n",
    "cv2.waitKey(0)\n",
    "cv2.destroyAllWindows()"
   ]
  },
  {
   "cell_type": "markdown",
   "id": "896bed7b-2077-492f-b95b-449276ee3ece",
   "metadata": {},
   "source": [
    "\n",
    "Image Processing <Blurring , Enhancing Image>\n"
   ]
  },
  {
   "cell_type": "markdown",
   "id": "31acf6a9-e077-40c7-be64-b6444e25657b",
   "metadata": {},
   "source": [
    "1. Grayscale Conversion:\n",
    "   "
   ]
  },
  {
   "cell_type": "code",
   "execution_count": 33,
   "id": "30d6c5a2-204b-479e-8e11-27c2b63f2235",
   "metadata": {},
   "outputs": [],
   "source": [
    "copy = img.copy()\n",
    "\n",
    "# Convert to grayscale\n",
    "gray_img = cv2.cvtColor(copy, cv2.COLOR_BGR2GRAY)\n",
    "\n",
    "# Display the original and grayscale images\n",
    "cv2.imshow('Original Image', copy)\n",
    "cv2.imshow('Grayscale Image', gray_img)\n",
    "cv2.waitKey(0)\n",
    "cv2.destroyAllWindows()"
   ]
  },
  {
   "attachments": {
    "4e17a2d2-0ee2-4ea0-b2d2-f7e041fadd18.png": {
     "image/png": "[encoded data removed]"
    }
   },
   "cell_type": "markdown",
   "id": "9c1eed4e-ca27-4b8a-ad5d-4508df11969e",
   "metadata": {},
   "source": [
    "2. Blurring an Image (Gaussian): (After Gray Scale)\n",
    "\n",
    "   cv2.GaussianBlur(image, (kernel_size, kernel_size), sigma_x, sigma_y=sigma_x, borderType=border_type)  { sigma=standard deviation }\n",
    "   \n",
    "![image.png](attachment:4e17a2d2-0ee2-4ea0-b2d2-f7e041fadd18.png) "
   ]
  },
  {
   "cell_type": "code",
   "execution_count": 35,
   "id": "7111e95b-23f6-4aa7-9df3-e98056d494cb",
   "metadata": {},
   "outputs": [],
   "source": [
    "copy = img.copy()\n",
    "\n",
    "# Apply a Gaussian blur (kernel size 5x5\n",
    "gray_img = cv2.cvtColor(copy, cv2.COLOR_BGR2GRAY)\n",
    "\n",
    "blurred_img = cv2.GaussianBlur(img, (5, 5), 0)\n",
    "\n",
    "# Display the original and blurred images\n",
    "cv2.imshow('Original Image', copy)\n",
    "cv2.imshow('Blurred Image', blurred_img)\n",
    "cv2.waitKey(0)\n",
    "cv2.destroyAllWindows()"
   ]
  },
  {
   "attachments": {
    "2c006164-9e09-4f8b-b3f3-f66a578a67fd.png": {
     "image/png": "[encoded data removed]"
    }
   },
   "cell_type": "markdown",
   "id": "52f7916c-e7d7-4429-b11f-53c31dbfcb8c",
   "metadata": {},
   "source": [
    "3. Edge Detection:\n",
    "   \n",
    "   cv2.Canny(image, threshold1, threshold2, [apertureSize=aperture_size, L2gradient=L2gradient])\n",
    "   1. threshold1: Lower threshold for edge intensity.\n",
    "   2. threshold2: Upper threshold for edge intensity.\n",
    "   3. apertureSize (optional): Size of the Sobel operator kernel (e.g., 3, 5, 7).\n",
    "   4. L2gradient (optional): Whether to use the second derivative of the Gaussian filter (True) or not (False).\n",
    "      \n",
    "      ![image.png](attachment:2c006164-9e09-4f8b-b3f3-f66a578a67fd.png)"
   ]
  },
  {
   "cell_type": "code",
   "execution_count": 11,
   "id": "4e54a1d4-912c-4a4f-87cb-9b270a3db9f1",
   "metadata": {},
   "outputs": [],
   "source": [
    "copy = img.copy()\n",
    "\n",
    "# Convert to grayscale for better edge detection and Blur to avoid Noise\n",
    "\n",
    "gray_img = cv2.cvtColor(copy, cv2.COLOR_BGR2GRAY)\n",
    "blurred_img = cv2.GaussianBlur(gray_img, (5, 3), 0)\n",
    "\n",
    "# Apply Canny edge detection\n",
    "edges = cv2.Canny(gray_img, 100, 200)\n",
    "\n",
    "# Display the original image and detected edges\n",
    "cv2.imshow('Original Image', img)\n",
    "cv2.imshow('Edges', edges)\n",
    "cv2.waitKey(0)\n",
    "cv2.destroyAllWindows()"
   ]
  },
  {
   "cell_type": "markdown",
   "id": "748df9c8-0461-468e-a885-de6473209aec",
   "metadata": {},
   "source": [
    "4. Thresholding:\n",
    "\n",
    "   \n",
    "    ret, thresholded_image = cv2.threshold(image, threshold_value, max_value, threshold_type)\n",
    "    1. threshold_value: Threshold intensity value.\n",
    "    2. max_value: Value assigned to pixels above the threshold (e.g., 255 for white).\n",
    "    3. threshold_type: Type of thresholding operation (e.g., cv2.THRESH_BINARY)."
   ]
  },
  {
   "cell_type": "code",
   "execution_count": 16,
   "id": "e2bac96f-f45e-424b-bcf4-2a003b6d7ef9",
   "metadata": {},
   "outputs": [
    {
     "name": "stdout",
     "output_type": "stream",
     "text": [
      "33.0\n"
     ]
    }
   ],
   "source": [
    "copy = img.copy()\n",
    "\n",
    "# Convert to grayscale for better edge detection\n",
    "gray_img = cv2.cvtColor(copy, cv2.COLOR_BGR2GRAY)\n",
    "\n",
    "# Apply Canny edge detection\n",
    "edges = cv2.Canny(gray_img, 100, 200)\n",
    "\n",
    "# Apply thresholding (adjust threshold and max_value as needed)\n",
    "thresh, thresholded_image = cv2.threshold(gray_img, 33, 255, cv2.THRESH_BINARY)\n",
    "\n",
    "# Display the original image, detected edges, and thresholded image\n",
    "cv2.imshow('Original Image', copy)\n",
    "cv2.imshow('Edges', edges)\n",
    "cv2.imshow('Thresholded Image', thresholded_image)\n",
    "\n",
    "# Wait for a key press to close windows\n",
    "cv2.waitKey(0)\n",
    "\n",
    "cv2.destroyAllWindows()\n",
    "# print(thresh)"
   ]
  },
  {
   "cell_type": "markdown",
   "id": "cd9c96e3-e66f-4dd1-ba70-dce07e727ec0",
   "metadata": {},
   "source": [
    "_\n",
    "\n",
    "Detecting the object(Mobile) in the frame\n",
    "\n",
    "Contours Function:\n",
    "1. cv2.findContours(image, retrieval_mode, approximation_method)\n",
    "    1. Retrieval Mode (int): How to find contours:\n",
    "        1. cv2.RETR_EXTERNAL (default): Outermost boundaries of objects (like island coastlines).\n",
    "        2. cv2.RETR_LIST: All contours, including holes within objects.\n",
    "    2. Approximation Method (int): How to store contours (affects memory & speed):\n",
    "        1. cv2.CHAIN_APPROX_SIMPLE (default): Stores few turning where much change in direction is observed (less memory, faster).\n",
    "        2. cv2.CHAIN_APPROX_NONE: Stores all points (more memory, slower).\n",
    "           \n",
    "NOTE: For basic shape analysis, use cv2.RETR_EXTERNAL and cv2.CHAIN_APPROX_SIMPLE to identify external objects with minimal memory usage.For detailed analysis of objects with holes, use cv2.RETR_LIST and all boundary points (cv2.CHAIN_APPROX_NONE) if precision is crucial.\n",
    "For analyzing nested shapes, use cv2.RETR_CCOMP with an appropriate approximation method based on your needs.\n",
    "\n",
    "\n",
    "2. cv2.drawContours(image, contours, contourIdx, color, thickness, lineType, hierarchy, maxLevel):\n",
    "   \n",
    "   1. contourIdx (int): This specifies which contour(s) to draw.\n",
    "       1. -1 (default): Draws all contours in the contours list.\n",
    "       2. Non-negative integer: Draws the contour at the corresponding index in the contours list.\n",
    "   2. color (Scalar): (BGR),alpha (transparency).(255, 0, 0, 128) (half-transparent red).\n",
    "   3. lineType (int): Common options:\n",
    "      1. cv2.LINE_8 (default): 8-connected line (commonly used)\n",
    "      2. cv2.LINE_AA (anti-aliased line): Smoother lines (may be slower)\n",
    "   4. hierarchy (optional, 2D list): Information about the hierarchy of contours (useful for nested shapes, often None for basic drawing).\n",
    "   5. maxLevel (int, optional): Maximum level of hierarchy to draw (usually 0 to draw all levels)."
   ]
  },
  {
   "cell_type": "code",
   "execution_count": 24,
   "id": "bdc1380d-a378-475d-a3dc-f59f16fb524d",
   "metadata": {},
   "outputs": [
    {
     "name": "stdout",
     "output_type": "stream",
     "text": [
      "Image processing finished.\n",
      "Object centred at : (156.0, 5.0)\n"
     ]
    }
   ],
   "source": [
    "import cv2\n",
    "\n",
    "# Loading the image \n",
    "try:\n",
    "    img = cv2.imread('Mobile.jpg')\n",
    "    if img is None:\n",
    "        print(\"Error: Could not read image file\")\n",
    "        exit()\n",
    "except FileNotFoundError:\n",
    "    print(\"Error: Image file not found\")\n",
    "    exit()\n",
    "    \n",
    "copy = img.copy()\n",
    "copy1 = img.copy()\n",
    "\n",
    "# Convert to grayscale for better contour detection\n",
    "gray_img = cv2.cvtColor(img, cv2.COLOR_BGR2GRAY)\n",
    "\n",
    "# Apply thresholding (adjust threshold and max_value as needed)\n",
    "thresh, thresholded_image = cv2.threshold(gray_img, 33, 255, cv2.THRESH_BINARY_INV)\n",
    "\n",
    "# inverted_image = cv2.bitwise_not(thresholded_image)\n",
    "\n",
    "# Find contours\n",
    "contours, hierarchy = cv2.findContours(thresholded_image, cv2.RETR_EXTERNAL, cv2.CHAIN_APPROX_SIMPLE)\n",
    "cv2.drawContours(copy1, contours, -1, (255,255,0), 3)\n",
    "# Draw contours and bounding boxes with labels (area limit added)\n",
    "area_limit = 1000  # Minimum area for a contour to be considered\n",
    "for cnt in contours:\n",
    "    # Get bounding rectangle\n",
    "    x, y, w, h = cv2.boundingRect(cnt)\n",
    "    # Calculate contour area\n",
    "    contour_area = cv2.contourArea(cnt)\n",
    "\n",
    "    # Only process contours with area greater than the limit\n",
    "    if contour_area > area_limit:\n",
    "        # Draw rectangle\n",
    "        cv2.rectangle(img, (x, y), (x+w, y+h), (0, 255, 0), 2)\n",
    "        # Put label (you can replace 'Object' with a class name)\n",
    "        cv2.putText(img, 'Mobile', (x, y-5), cv2.FONT_HERSHEY_SIMPLEX, 0.7, (0, 255, 0), 2)\n",
    "\n",
    "# Display the original image with contours and labels\n",
    "cv2.imshow('Original Image', copy1)\n",
    "cv2.imshow('Thresholded Image', thresholded_image)\n",
    "cv2.imshow('Image with Contours', img)\n",
    "\n",
    "# Wait for a key press to close windows\n",
    "cv2.waitKey(0)\n",
    "\n",
    "# Clean up resources\n",
    "cv2.destroyAllWindows()\n",
    "\n",
    "print(\"Image processing finished.\")\n",
    "print(\"Object centred at :\" , (x+w/2, y+h/2))"
   ]
  },
  {
   "cell_type": "markdown",
   "id": "34c346de-dce8-4590-9ba0-d0b5072bfa8f",
   "metadata": {},
   "source": [
    "\n",
    "Reading Video\n"
   ]
  },
  {
   "cell_type": "code",
   "execution_count": 12,
   "id": "7b60f544-0e0c-41c7-84a1-41b3c618b1ec",
   "metadata": {},
   "outputs": [],
   "source": [
    "import cv2 \n",
    "cap = cv2.VideoCapture('Basket ball.mp4') #instead of path put numbers 0 for yours systems live webcam and 1 if ext second webcam is connected\n",
    "\n",
    "# Check if video capture opened successfully\n",
    "if not cap.isOpened():\n",
    "    print(\"Error opening video stream or file\")\n",
    "    exit()\n",
    "\n",
    "while (1):\n",
    "    ret, frame = cap.read()\n",
    "    if not ret:\n",
    "        print(\"No Frames to read\")\n",
    "        break    \n",
    "    resized_frame = cv2.resize(frame, (320, 240))     # Display the resized video frame in the named window\n",
    "    cv2.imshow('Window',resized_frame)\n",
    "    if cv2.waitKey(1) & 0xFF == 27:                   # Escape to go back\n",
    "        break\n",
    "cap.release()\n",
    "cv2.destroyAllWindows()"
   ]
  },
  {
   "cell_type": "markdown",
   "id": "b6ce995f-cf27-4d9d-92ce-34ce7fb484ec",
   "metadata": {},
   "source": [
    "Your Task :\n",
    "1> Create a Contour Object Detection with a real life object...\n",
    "\n",
    "2> Create a Motion Detector by comparing 2 frames of live WebCam and check for a difference and detect a change with time stamp. Also draw a bounding box where the change is detected on the OpenCV Window...\n"
   ]
  },
  {
   "cell_type": "code",
   "execution_count": null,
   "id": "61525b98-b45e-4fa7-b3d0-78716dcba8da",
   "metadata": {},
   "outputs": [],
   "source": []
  }
 ],
 "metadata": {
  "kernelspec": {
   "display_name": "Python 3 (ipykernel)",
   "language": "python",
   "name": "python3"
  },
  "language_info": {
   "codemirror_mode": {
    "name": "ipython",
    "version": 3
   },
   "file_extension": ".py",
   "mimetype": "text/x-python",
   "name": "python",
   "nbconvert_exporter": "python",
   "pygments_lexer": "ipython3",
   "version": "3.12.3"
  }
 },
 "nbformat": 4,
 "nbformat_minor": 5
}
